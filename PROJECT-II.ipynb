{
 "cells": [
  {
   "cell_type": "code",
   "execution_count": 3,
   "id": "c92a8d76",
   "metadata": {},
   "outputs": [],
   "source": [
    "import requests\n",
    "from bs4 import BeautifulSoup # pip install beautifulsoup4\n",
    "import pandas as pd\n",
    "import requests\n",
    "import re"
   ]
  },
  {
   "cell_type": "markdown",
   "id": "924d05d5",
   "metadata": {},
   "source": [
    "***Accessing the desired web page and scrapping***\n",
    "\n",
    "1- find the webpage where we can get the updated prices of the REE (Rare Earth Elements)\n",
    "\n",
    "2- scrapping and creating a data base with the desired info:\n",
    "\n",
    "    -REE name\n",
    "    -unit used \n",
    "    -price range\n",
    "    -average price\n",
    "    -date"
   ]
  },
  {
   "cell_type": "code",
   "execution_count": 4,
   "id": "1fac75b6",
   "metadata": {},
   "outputs": [],
   "source": [
    "url = \"https://www.metal.com/Rare-Earth-Oxides\""
   ]
  },
  {
   "cell_type": "code",
   "execution_count": 5,
   "id": "dd4e83d9",
   "metadata": {},
   "outputs": [],
   "source": [
    "res = requests.get(url)\n",
    "soup = BeautifulSoup(res.content, \"html.parser\") # we knoe we're getting html"
   ]
  },
  {
   "cell_type": "code",
   "execution_count": 6,
   "id": "46e09c81",
   "metadata": {},
   "outputs": [
    {
     "data": {
      "text/plain": [
       "<div class=\"row___1xJWs close___30tSe\"><a class=\"link___2BznB item___ku9Fy\" href=\"/Rare-Earth-Oxides/201102250476\" style=\"flex:1;width:auto;padding-right:12px;justify-content:flex-start\" target=\"_blank\">Lanthanum Oxide (USD/mt)</a><div class=\"item___ku9Fy\" style=\"flex:;width:165px;padding-right:12px;justify-content:flex-end\">571.18-626.91</div><div class=\"item___ku9Fy\" style=\"flex:;width:106px;padding-right:12px;justify-content:flex-end\">599.04</div><div class=\"item___ku9Fy\" style=\"flex:;width:100px;padding-right:12px;justify-content:flex-end\">0</div><div class=\"item___ku9Fy\" style=\"flex:;width:130px;padding-right:24px;justify-content:flex-end\">Oct 30, 2023</div></div>"
      ]
     },
     "execution_count": 6,
     "metadata": {},
     "output_type": "execute_result"
    }
   ],
   "source": [
    "ugly_metal = soup.find_all(\"div\", {\"class\":\"row___1xJWs close___30tSe\"})\n",
    "ugly_metal[0]"
   ]
  },
  {
   "cell_type": "code",
   "execution_count": 7,
   "id": "e1b21e05",
   "metadata": {},
   "outputs": [
    {
     "data": {
      "text/plain": [
       "'Lanthanum Oxide'"
      ]
     },
     "execution_count": 7,
     "metadata": {},
     "output_type": "execute_result"
    }
   ],
   "source": [
    "metal_name = ugly_metal[0].getText()\n",
    "name= metal_name.split(\")\")[0].replace(\" (USD/mt\",\"\")\n",
    "name"
   ]
  },
  {
   "cell_type": "code",
   "execution_count": 8,
   "id": "b0d66627",
   "metadata": {},
   "outputs": [],
   "source": [
    "names=[ugly_metal[i].getText().split(\")\")[0].replace(\" (USD/mt\",\"\").replace(\" (USD/kg\",\"\") for i in range(len(ugly_metal))]\n",
    "#names"
   ]
  },
  {
   "cell_type": "code",
   "execution_count": null,
   "id": "17073846",
   "metadata": {},
   "outputs": [],
   "source": []
  },
  {
   "cell_type": "code",
   "execution_count": 9,
   "id": "577b608a",
   "metadata": {},
   "outputs": [],
   "source": [
    "units=[ugly_metal[i].getText().split(\")\")[0].split(\"(\")[1] for i in range(len(ugly_metal))]\n",
    "#units"
   ]
  },
  {
   "cell_type": "code",
   "execution_count": 10,
   "id": "44474ee5",
   "metadata": {},
   "outputs": [
    {
     "data": {
      "text/plain": [
       "<div class=\"row___1xJWs close___30tSe\"><a class=\"link___2BznB item___ku9Fy\" href=\"/Rare-Earth-Oxides/201102250476\" style=\"flex:1;width:auto;padding-right:12px;justify-content:flex-start\" target=\"_blank\">Lanthanum Oxide (USD/mt)</a><div class=\"item___ku9Fy\" style=\"flex:;width:165px;padding-right:12px;justify-content:flex-end\">571.18-626.91</div><div class=\"item___ku9Fy\" style=\"flex:;width:106px;padding-right:12px;justify-content:flex-end\">599.04</div><div class=\"item___ku9Fy\" style=\"flex:;width:100px;padding-right:12px;justify-content:flex-end\">0</div><div class=\"item___ku9Fy\" style=\"flex:;width:130px;padding-right:24px;justify-content:flex-end\">Oct 30, 2023</div></div>"
      ]
     },
     "execution_count": 10,
     "metadata": {},
     "output_type": "execute_result"
    }
   ],
   "source": [
    "ugly_metal[0]"
   ]
  },
  {
   "cell_type": "code",
   "execution_count": 11,
   "id": "64a23549",
   "metadata": {
    "scrolled": true
   },
   "outputs": [
    {
     "data": {
      "text/plain": [
       "[<div class=\"item___ku9Fy\" style=\"flex:;width:165px;padding-right:12px;justify-content:flex-end\">571.18-626.91</div>,\n",
       " <div class=\"item___ku9Fy\" style=\"flex:;width:106px;padding-right:12px;justify-content:flex-end\">599.04</div>,\n",
       " <div class=\"item___ku9Fy\" style=\"flex:;width:100px;padding-right:12px;justify-content:flex-end\">0</div>,\n",
       " <div class=\"item___ku9Fy\" style=\"flex:;width:130px;padding-right:24px;justify-content:flex-end\">Oct 30, 2023</div>]"
      ]
     },
     "execution_count": 11,
     "metadata": {},
     "output_type": "execute_result"
    }
   ],
   "source": [
    "ugly_prices =ugly_metal[0].find_all(\"div\",{\"class\":\"item___ku9Fy\"})\n",
    "ugly_prices"
   ]
  },
  {
   "cell_type": "code",
   "execution_count": 12,
   "id": "6a0b1ec8",
   "metadata": {},
   "outputs": [
    {
     "data": {
      "text/plain": [
       "'599.04'"
      ]
     },
     "execution_count": 12,
     "metadata": {},
     "output_type": "execute_result"
    }
   ],
   "source": [
    "ugly_prices[1].getText()"
   ]
  },
  {
   "cell_type": "code",
   "execution_count": 13,
   "id": "4ccc1f96",
   "metadata": {},
   "outputs": [],
   "source": [
    "avg_price=[ugly_metal[i].find_all(\"div\", {\"class\":\"item___ku9Fy\"})[1].getText() for i in range(len(ugly_metal))]\n",
    "#avg_price"
   ]
  },
  {
   "cell_type": "code",
   "execution_count": 14,
   "id": "c03e2fc4",
   "metadata": {},
   "outputs": [
    {
     "data": {
      "text/plain": [
       "'Oct 30, 2023'"
      ]
     },
     "execution_count": 14,
     "metadata": {},
     "output_type": "execute_result"
    }
   ],
   "source": [
    "ugly_prices[3].getText()"
   ]
  },
  {
   "cell_type": "code",
   "execution_count": 15,
   "id": "61eeddfd",
   "metadata": {},
   "outputs": [],
   "source": [
    "date= [ugly_metal[i].find_all(\"div\", {\"class\":\"item___ku9Fy\"})[3].getText() for i in range(len(ugly_metal))]"
   ]
  },
  {
   "cell_type": "code",
   "execution_count": 16,
   "id": "f732dad9",
   "metadata": {},
   "outputs": [],
   "source": [
    "#date"
   ]
  },
  {
   "cell_type": "code",
   "execution_count": 17,
   "id": "05ab2aab",
   "metadata": {},
   "outputs": [],
   "source": [
    "range_prices= [ugly_metal[i].find_all(\"div\", {\"class\":\"item___ku9Fy\"})[0].getText() for i in range(len(ugly_metal))]"
   ]
  },
  {
   "cell_type": "code",
   "execution_count": 18,
   "id": "610ffa6a",
   "metadata": {},
   "outputs": [],
   "source": [
    "#range_prices"
   ]
  },
  {
   "cell_type": "code",
   "execution_count": 19,
   "id": "00f14c5d",
   "metadata": {},
   "outputs": [],
   "source": [
    "def updated_rare_earth_prices ():\n",
    "    res = requests.get(url)\n",
    "    soup = BeautifulSoup(res.content, \"html.parser\")\n",
    "    ugly_metal = soup.find_all(\"div\", {\"class\":\"row___1xJWs close___30tSe\"})\n",
    "    \n",
    "    names=[ugly_metal[i].getText().split(\")\")[0].replace(\" (USD/mt\",\"\").replace(\" (USD/kg\",\"\") for i in range(len(ugly_metal))]\n",
    "    units=[ugly_metal[i].getText().split(\")\")[0].split(\"(\")[1] for i in range(len(ugly_metal))]\n",
    "    avg_price=[ugly_metal[i].find_all(\"div\", {\"class\":\"item___ku9Fy\"})[1].getText() for i in range(len(ugly_metal))]\n",
    "    range_prices= [ugly_metal[i].find_all(\"div\", {\"class\":\"item___ku9Fy\"})[0].getText() for i in range(len(ugly_metal))]\n",
    "    date= [ugly_metal[i].find_all(\"div\", {\"class\":\"item___ku9Fy\"})[3].getText() for i in range(len(ugly_metal))]\n",
    "    \n",
    "    rare_earth_dic={\n",
    "    \"name\": names,\n",
    "    \"units\": units,\n",
    "    \"average_price\": avg_price,\n",
    "    \"price_range\": range_prices,\n",
    "    \"date\":date       \n",
    "    }\n",
    "    return rare_earth_dic"
   ]
  },
  {
   "cell_type": "code",
   "execution_count": 20,
   "id": "e7f06141",
   "metadata": {},
   "outputs": [],
   "source": [
    "Rare_earth_df = pd.DataFrame(updated_rare_earth_prices())"
   ]
  },
  {
   "cell_type": "code",
   "execution_count": 21,
   "id": "94eef26a",
   "metadata": {
    "scrolled": true
   },
   "outputs": [
    {
     "data": {
      "text/html": [
       "<div>\n",
       "<style scoped>\n",
       "    .dataframe tbody tr th:only-of-type {\n",
       "        vertical-align: middle;\n",
       "    }\n",
       "\n",
       "    .dataframe tbody tr th {\n",
       "        vertical-align: top;\n",
       "    }\n",
       "\n",
       "    .dataframe thead th {\n",
       "        text-align: right;\n",
       "    }\n",
       "</style>\n",
       "<table border=\"1\" class=\"dataframe\">\n",
       "  <thead>\n",
       "    <tr style=\"text-align: right;\">\n",
       "      <th></th>\n",
       "      <th>name</th>\n",
       "      <th>units</th>\n",
       "      <th>average_price</th>\n",
       "      <th>price_range</th>\n",
       "      <th>date</th>\n",
       "    </tr>\n",
       "  </thead>\n",
       "  <tbody>\n",
       "    <tr>\n",
       "      <th>0</th>\n",
       "      <td>Lanthanum Oxide</td>\n",
       "      <td>USD/mt</td>\n",
       "      <td>599.04</td>\n",
       "      <td>571.18-626.91</td>\n",
       "      <td>Oct 30, 2023</td>\n",
       "    </tr>\n",
       "    <tr>\n",
       "      <th>1</th>\n",
       "      <td>High Purity lanthanum Oxide</td>\n",
       "      <td>USD/mt</td>\n",
       "      <td>2,646.94</td>\n",
       "      <td>2,507.63-2,786.25</td>\n",
       "      <td>Oct 30, 2023</td>\n",
       "    </tr>\n",
       "    <tr>\n",
       "      <th>2</th>\n",
       "      <td>Cerium Oxide</td>\n",
       "      <td>USD/mt</td>\n",
       "      <td>696.56</td>\n",
       "      <td>682.63-710.49</td>\n",
       "      <td>Oct 30, 2023</td>\n",
       "    </tr>\n",
       "    <tr>\n",
       "      <th>3</th>\n",
       "      <td>High Purity Cerium Oxide</td>\n",
       "      <td>USD/mt</td>\n",
       "      <td>2,925.57</td>\n",
       "      <td>2,786.25-3,064.88</td>\n",
       "      <td>Oct 30, 2023</td>\n",
       "    </tr>\n",
       "    <tr>\n",
       "      <th>4</th>\n",
       "      <td>Praseodymium Oxide</td>\n",
       "      <td>USD/mt</td>\n",
       "      <td>72,790.85</td>\n",
       "      <td>72,442.57-73,139.13</td>\n",
       "      <td>Oct 30, 2023</td>\n",
       "    </tr>\n",
       "    <tr>\n",
       "      <th>5</th>\n",
       "      <td>Neodymium Oxide</td>\n",
       "      <td>USD/mt</td>\n",
       "      <td>72,999.82</td>\n",
       "      <td>72,721.19-73,278.44</td>\n",
       "      <td>Oct 30, 2023</td>\n",
       "    </tr>\n",
       "    <tr>\n",
       "      <th>6</th>\n",
       "      <td>Samarium Oxide</td>\n",
       "      <td>USD/mt</td>\n",
       "      <td>2,089.69</td>\n",
       "      <td>1,950.38-2,229</td>\n",
       "      <td>Oct 30, 2023</td>\n",
       "    </tr>\n",
       "    <tr>\n",
       "      <th>7</th>\n",
       "      <td>Europium Oxide</td>\n",
       "      <td>USD/kg</td>\n",
       "      <td>27.17</td>\n",
       "      <td>26.47-27.86</td>\n",
       "      <td>Oct 30, 2023</td>\n",
       "    </tr>\n",
       "    <tr>\n",
       "      <th>8</th>\n",
       "      <td>Gadolinium Oxide</td>\n",
       "      <td>USD/mt</td>\n",
       "      <td>38,171.66</td>\n",
       "      <td>37,893.04-38,450.29</td>\n",
       "      <td>Oct 30, 2023</td>\n",
       "    </tr>\n",
       "    <tr>\n",
       "      <th>9</th>\n",
       "      <td>High purity gadolinium oxide</td>\n",
       "      <td>USD/mt</td>\n",
       "      <td>41,097.23</td>\n",
       "      <td>40,400.66-41,793.79</td>\n",
       "      <td>Oct 30, 2023</td>\n",
       "    </tr>\n",
       "    <tr>\n",
       "      <th>10</th>\n",
       "      <td>Terbium Oxide</td>\n",
       "      <td>USD/kg</td>\n",
       "      <td>1,135.4</td>\n",
       "      <td>1,131.22-1,139.58</td>\n",
       "      <td>Oct 30, 2023</td>\n",
       "    </tr>\n",
       "    <tr>\n",
       "      <th>11</th>\n",
       "      <td>Dysprosium Oxide</td>\n",
       "      <td>USD/kg</td>\n",
       "      <td>369.88</td>\n",
       "      <td>367.79-371.96</td>\n",
       "      <td>Oct 30, 2023</td>\n",
       "    </tr>\n",
       "    <tr>\n",
       "      <th>12</th>\n",
       "      <td>Erbium Oxide</td>\n",
       "      <td>USD/mt</td>\n",
       "      <td>39,355.82</td>\n",
       "      <td>39,007.54-39,704.1</td>\n",
       "      <td>Oct 30, 2023</td>\n",
       "    </tr>\n",
       "    <tr>\n",
       "      <th>13</th>\n",
       "      <td>Yttrium Oxide</td>\n",
       "      <td>USD/mt</td>\n",
       "      <td>6,269.07</td>\n",
       "      <td>6,129.76-6,408.38</td>\n",
       "      <td>Oct 30, 2023</td>\n",
       "    </tr>\n",
       "    <tr>\n",
       "      <th>14</th>\n",
       "      <td>Praseodymium-neodymium oxide</td>\n",
       "      <td>USD/mt</td>\n",
       "      <td>71,258.41</td>\n",
       "      <td>71,049.44-71,467.38</td>\n",
       "      <td>Oct 30, 2023</td>\n",
       "    </tr>\n",
       "    <tr>\n",
       "      <th>15</th>\n",
       "      <td>Holmium Oxide</td>\n",
       "      <td>USD/mt</td>\n",
       "      <td>81,497.89</td>\n",
       "      <td>80,801.33-82,194.45</td>\n",
       "      <td>Oct 30, 2023</td>\n",
       "    </tr>\n",
       "    <tr>\n",
       "      <th>16</th>\n",
       "      <td>Ytterbium oxide</td>\n",
       "      <td>USD/mt</td>\n",
       "      <td>13,931.26</td>\n",
       "      <td>13,234.7-14,627.83</td>\n",
       "      <td>Oct 30, 2023</td>\n",
       "    </tr>\n",
       "    <tr>\n",
       "      <th>17</th>\n",
       "      <td>Lutetium oxide</td>\n",
       "      <td>USD/kg</td>\n",
       "      <td>773.19</td>\n",
       "      <td>752.29-794.08</td>\n",
       "      <td>Oct 30, 2023</td>\n",
       "    </tr>\n",
       "    <tr>\n",
       "      <th>18</th>\n",
       "      <td>Scandium oxide</td>\n",
       "      <td>USD/kg</td>\n",
       "      <td>891.6</td>\n",
       "      <td>877.67-905.53</td>\n",
       "      <td>Oct 30, 2023</td>\n",
       "    </tr>\n",
       "  </tbody>\n",
       "</table>\n",
       "</div>"
      ],
      "text/plain": [
       "                            name   units average_price          price_range  \\\n",
       "0                Lanthanum Oxide  USD/mt        599.04        571.18-626.91   \n",
       "1    High Purity lanthanum Oxide  USD/mt      2,646.94    2,507.63-2,786.25   \n",
       "2                   Cerium Oxide  USD/mt        696.56        682.63-710.49   \n",
       "3       High Purity Cerium Oxide  USD/mt      2,925.57    2,786.25-3,064.88   \n",
       "4             Praseodymium Oxide  USD/mt     72,790.85  72,442.57-73,139.13   \n",
       "5                Neodymium Oxide  USD/mt     72,999.82  72,721.19-73,278.44   \n",
       "6                 Samarium Oxide  USD/mt      2,089.69       1,950.38-2,229   \n",
       "7                 Europium Oxide  USD/kg         27.17          26.47-27.86   \n",
       "8               Gadolinium Oxide  USD/mt     38,171.66  37,893.04-38,450.29   \n",
       "9   High purity gadolinium oxide  USD/mt     41,097.23  40,400.66-41,793.79   \n",
       "10                 Terbium Oxide  USD/kg       1,135.4    1,131.22-1,139.58   \n",
       "11              Dysprosium Oxide  USD/kg        369.88        367.79-371.96   \n",
       "12                  Erbium Oxide  USD/mt     39,355.82   39,007.54-39,704.1   \n",
       "13                 Yttrium Oxide  USD/mt      6,269.07    6,129.76-6,408.38   \n",
       "14  Praseodymium-neodymium oxide  USD/mt     71,258.41  71,049.44-71,467.38   \n",
       "15                 Holmium Oxide  USD/mt     81,497.89  80,801.33-82,194.45   \n",
       "16               Ytterbium oxide  USD/mt     13,931.26   13,234.7-14,627.83   \n",
       "17                Lutetium oxide  USD/kg        773.19        752.29-794.08   \n",
       "18                Scandium oxide  USD/kg         891.6        877.67-905.53   \n",
       "\n",
       "            date  \n",
       "0   Oct 30, 2023  \n",
       "1   Oct 30, 2023  \n",
       "2   Oct 30, 2023  \n",
       "3   Oct 30, 2023  \n",
       "4   Oct 30, 2023  \n",
       "5   Oct 30, 2023  \n",
       "6   Oct 30, 2023  \n",
       "7   Oct 30, 2023  \n",
       "8   Oct 30, 2023  \n",
       "9   Oct 30, 2023  \n",
       "10  Oct 30, 2023  \n",
       "11  Oct 30, 2023  \n",
       "12  Oct 30, 2023  \n",
       "13  Oct 30, 2023  \n",
       "14  Oct 30, 2023  \n",
       "15  Oct 30, 2023  \n",
       "16  Oct 30, 2023  \n",
       "17  Oct 30, 2023  \n",
       "18  Oct 30, 2023  "
      ]
     },
     "execution_count": 21,
     "metadata": {},
     "output_type": "execute_result"
    }
   ],
   "source": [
    "Rare_earth_df"
   ]
  },
  {
   "cell_type": "code",
   "execution_count": 22,
   "id": "5ec7b250",
   "metadata": {},
   "outputs": [
    {
     "data": {
      "text/html": [
       "<div>\n",
       "<style scoped>\n",
       "    .dataframe tbody tr th:only-of-type {\n",
       "        vertical-align: middle;\n",
       "    }\n",
       "\n",
       "    .dataframe tbody tr th {\n",
       "        vertical-align: top;\n",
       "    }\n",
       "\n",
       "    .dataframe thead th {\n",
       "        text-align: right;\n",
       "    }\n",
       "</style>\n",
       "<table border=\"1\" class=\"dataframe\">\n",
       "  <thead>\n",
       "    <tr style=\"text-align: right;\">\n",
       "      <th></th>\n",
       "      <th>name</th>\n",
       "      <th>units</th>\n",
       "      <th>average_price</th>\n",
       "      <th>price_range</th>\n",
       "      <th>date</th>\n",
       "    </tr>\n",
       "  </thead>\n",
       "  <tbody>\n",
       "    <tr>\n",
       "      <th>0</th>\n",
       "      <td>Lanthanum_Oxide</td>\n",
       "      <td>USD/mt</td>\n",
       "      <td>599.04</td>\n",
       "      <td>571.18-626.91</td>\n",
       "      <td>Oct 30, 2023</td>\n",
       "    </tr>\n",
       "    <tr>\n",
       "      <th>1</th>\n",
       "      <td>High_Purity_lanthanum_Oxide</td>\n",
       "      <td>USD/mt</td>\n",
       "      <td>2,646.94</td>\n",
       "      <td>2,507.63-2,786.25</td>\n",
       "      <td>Oct 30, 2023</td>\n",
       "    </tr>\n",
       "    <tr>\n",
       "      <th>2</th>\n",
       "      <td>Cerium_Oxide</td>\n",
       "      <td>USD/mt</td>\n",
       "      <td>696.56</td>\n",
       "      <td>682.63-710.49</td>\n",
       "      <td>Oct 30, 2023</td>\n",
       "    </tr>\n",
       "    <tr>\n",
       "      <th>3</th>\n",
       "      <td>High_Purity_Cerium_Oxide</td>\n",
       "      <td>USD/mt</td>\n",
       "      <td>2,925.57</td>\n",
       "      <td>2,786.25-3,064.88</td>\n",
       "      <td>Oct 30, 2023</td>\n",
       "    </tr>\n",
       "    <tr>\n",
       "      <th>4</th>\n",
       "      <td>Praseodymium_Oxide</td>\n",
       "      <td>USD/mt</td>\n",
       "      <td>72,790.85</td>\n",
       "      <td>72,442.57-73,139.13</td>\n",
       "      <td>Oct 30, 2023</td>\n",
       "    </tr>\n",
       "    <tr>\n",
       "      <th>5</th>\n",
       "      <td>Neodymium_Oxide</td>\n",
       "      <td>USD/mt</td>\n",
       "      <td>72,999.82</td>\n",
       "      <td>72,721.19-73,278.44</td>\n",
       "      <td>Oct 30, 2023</td>\n",
       "    </tr>\n",
       "    <tr>\n",
       "      <th>6</th>\n",
       "      <td>Samarium_Oxide</td>\n",
       "      <td>USD/mt</td>\n",
       "      <td>2,089.69</td>\n",
       "      <td>1,950.38-2,229</td>\n",
       "      <td>Oct 30, 2023</td>\n",
       "    </tr>\n",
       "    <tr>\n",
       "      <th>7</th>\n",
       "      <td>Europium_Oxide</td>\n",
       "      <td>USD/kg</td>\n",
       "      <td>27.17</td>\n",
       "      <td>26.47-27.86</td>\n",
       "      <td>Oct 30, 2023</td>\n",
       "    </tr>\n",
       "    <tr>\n",
       "      <th>8</th>\n",
       "      <td>Gadolinium_Oxide</td>\n",
       "      <td>USD/mt</td>\n",
       "      <td>38,171.66</td>\n",
       "      <td>37,893.04-38,450.29</td>\n",
       "      <td>Oct 30, 2023</td>\n",
       "    </tr>\n",
       "    <tr>\n",
       "      <th>9</th>\n",
       "      <td>High_purity_gadolinium_oxide</td>\n",
       "      <td>USD/mt</td>\n",
       "      <td>41,097.23</td>\n",
       "      <td>40,400.66-41,793.79</td>\n",
       "      <td>Oct 30, 2023</td>\n",
       "    </tr>\n",
       "    <tr>\n",
       "      <th>10</th>\n",
       "      <td>Terbium_Oxide</td>\n",
       "      <td>USD/kg</td>\n",
       "      <td>1,135.4</td>\n",
       "      <td>1,131.22-1,139.58</td>\n",
       "      <td>Oct 30, 2023</td>\n",
       "    </tr>\n",
       "    <tr>\n",
       "      <th>11</th>\n",
       "      <td>Dysprosium_Oxide</td>\n",
       "      <td>USD/kg</td>\n",
       "      <td>369.88</td>\n",
       "      <td>367.79-371.96</td>\n",
       "      <td>Oct 30, 2023</td>\n",
       "    </tr>\n",
       "    <tr>\n",
       "      <th>12</th>\n",
       "      <td>Erbium_Oxide</td>\n",
       "      <td>USD/mt</td>\n",
       "      <td>39,355.82</td>\n",
       "      <td>39,007.54-39,704.1</td>\n",
       "      <td>Oct 30, 2023</td>\n",
       "    </tr>\n",
       "    <tr>\n",
       "      <th>13</th>\n",
       "      <td>Yttrium_Oxide</td>\n",
       "      <td>USD/mt</td>\n",
       "      <td>6,269.07</td>\n",
       "      <td>6,129.76-6,408.38</td>\n",
       "      <td>Oct 30, 2023</td>\n",
       "    </tr>\n",
       "    <tr>\n",
       "      <th>14</th>\n",
       "      <td>Praseodymium-neodymium_oxide</td>\n",
       "      <td>USD/mt</td>\n",
       "      <td>71,258.41</td>\n",
       "      <td>71,049.44-71,467.38</td>\n",
       "      <td>Oct 30, 2023</td>\n",
       "    </tr>\n",
       "    <tr>\n",
       "      <th>15</th>\n",
       "      <td>Holmium_Oxide</td>\n",
       "      <td>USD/mt</td>\n",
       "      <td>81,497.89</td>\n",
       "      <td>80,801.33-82,194.45</td>\n",
       "      <td>Oct 30, 2023</td>\n",
       "    </tr>\n",
       "    <tr>\n",
       "      <th>16</th>\n",
       "      <td>Ytterbium_oxide</td>\n",
       "      <td>USD/mt</td>\n",
       "      <td>13,931.26</td>\n",
       "      <td>13,234.7-14,627.83</td>\n",
       "      <td>Oct 30, 2023</td>\n",
       "    </tr>\n",
       "    <tr>\n",
       "      <th>17</th>\n",
       "      <td>Lutetium_oxide</td>\n",
       "      <td>USD/kg</td>\n",
       "      <td>773.19</td>\n",
       "      <td>752.29-794.08</td>\n",
       "      <td>Oct 30, 2023</td>\n",
       "    </tr>\n",
       "    <tr>\n",
       "      <th>18</th>\n",
       "      <td>Scandium_oxide</td>\n",
       "      <td>USD/kg</td>\n",
       "      <td>891.6</td>\n",
       "      <td>877.67-905.53</td>\n",
       "      <td>Oct 30, 2023</td>\n",
       "    </tr>\n",
       "  </tbody>\n",
       "</table>\n",
       "</div>"
      ],
      "text/plain": [
       "                            name   units average_price          price_range  \\\n",
       "0                Lanthanum_Oxide  USD/mt        599.04        571.18-626.91   \n",
       "1    High_Purity_lanthanum_Oxide  USD/mt      2,646.94    2,507.63-2,786.25   \n",
       "2                   Cerium_Oxide  USD/mt        696.56        682.63-710.49   \n",
       "3       High_Purity_Cerium_Oxide  USD/mt      2,925.57    2,786.25-3,064.88   \n",
       "4             Praseodymium_Oxide  USD/mt     72,790.85  72,442.57-73,139.13   \n",
       "5                Neodymium_Oxide  USD/mt     72,999.82  72,721.19-73,278.44   \n",
       "6                 Samarium_Oxide  USD/mt      2,089.69       1,950.38-2,229   \n",
       "7                 Europium_Oxide  USD/kg         27.17          26.47-27.86   \n",
       "8               Gadolinium_Oxide  USD/mt     38,171.66  37,893.04-38,450.29   \n",
       "9   High_purity_gadolinium_oxide  USD/mt     41,097.23  40,400.66-41,793.79   \n",
       "10                 Terbium_Oxide  USD/kg       1,135.4    1,131.22-1,139.58   \n",
       "11              Dysprosium_Oxide  USD/kg        369.88        367.79-371.96   \n",
       "12                  Erbium_Oxide  USD/mt     39,355.82   39,007.54-39,704.1   \n",
       "13                 Yttrium_Oxide  USD/mt      6,269.07    6,129.76-6,408.38   \n",
       "14  Praseodymium-neodymium_oxide  USD/mt     71,258.41  71,049.44-71,467.38   \n",
       "15                 Holmium_Oxide  USD/mt     81,497.89  80,801.33-82,194.45   \n",
       "16               Ytterbium_oxide  USD/mt     13,931.26   13,234.7-14,627.83   \n",
       "17                Lutetium_oxide  USD/kg        773.19        752.29-794.08   \n",
       "18                Scandium_oxide  USD/kg         891.6        877.67-905.53   \n",
       "\n",
       "            date  \n",
       "0   Oct 30, 2023  \n",
       "1   Oct 30, 2023  \n",
       "2   Oct 30, 2023  \n",
       "3   Oct 30, 2023  \n",
       "4   Oct 30, 2023  \n",
       "5   Oct 30, 2023  \n",
       "6   Oct 30, 2023  \n",
       "7   Oct 30, 2023  \n",
       "8   Oct 30, 2023  \n",
       "9   Oct 30, 2023  \n",
       "10  Oct 30, 2023  \n",
       "11  Oct 30, 2023  \n",
       "12  Oct 30, 2023  \n",
       "13  Oct 30, 2023  \n",
       "14  Oct 30, 2023  \n",
       "15  Oct 30, 2023  \n",
       "16  Oct 30, 2023  \n",
       "17  Oct 30, 2023  \n",
       "18  Oct 30, 2023  "
      ]
     },
     "execution_count": 22,
     "metadata": {},
     "output_type": "execute_result"
    }
   ],
   "source": [
    "Rare_earth_df['name'] = Rare_earth_df['name'].str.replace(' ', '_')\n",
    "Rare_earth_df"
   ]
  },
  {
   "cell_type": "markdown",
   "id": "05669a16",
   "metadata": {},
   "source": [
    "***Exporting to the desired folder***"
   ]
  },
  {
   "cell_type": "code",
   "execution_count": 23,
   "id": "88857a6b",
   "metadata": {},
   "outputs": [],
   "source": [
    "Rare_earth_df.to_csv(\"Clean_databases\\Rare_earth_df_test.csv\")"
   ]
  },
  {
   "cell_type": "code",
   "execution_count": null,
   "id": "8b7810d5",
   "metadata": {},
   "outputs": [],
   "source": []
  }
 ],
 "metadata": {
  "kernelspec": {
   "display_name": "ironhack",
   "language": "python",
   "name": "ironhack"
  },
  "language_info": {
   "codemirror_mode": {
    "name": "ipython",
    "version": 3
   },
   "file_extension": ".py",
   "mimetype": "text/x-python",
   "name": "python",
   "nbconvert_exporter": "python",
   "pygments_lexer": "ipython3",
   "version": "3.11.5"
  }
 },
 "nbformat": 4,
 "nbformat_minor": 5
}
