{
 "cells": [
  {
   "cell_type": "code",
   "execution_count": 42,
   "id": "c92a8d76",
   "metadata": {},
   "outputs": [],
   "source": [
    "import requests\n",
    "from bs4 import BeautifulSoup # pip install beautifulsoup4\n",
    "import pandas as pd\n",
    "import requests\n",
    "import re"
   ]
  },
  {
   "cell_type": "code",
   "execution_count": 43,
   "id": "1fac75b6",
   "metadata": {},
   "outputs": [],
   "source": [
    "url = \"https://www.metal.com/Rare-Earth-Oxides\""
   ]
  },
  {
   "cell_type": "code",
   "execution_count": 59,
   "id": "dd4e83d9",
   "metadata": {},
   "outputs": [],
   "source": [
    "res = requests.get(url)\n",
    "soup = BeautifulSoup(res.content, \"html.parser\") # we knoe we're getting html"
   ]
  },
  {
   "cell_type": "code",
   "execution_count": 62,
   "id": "ef91f90d",
   "metadata": {},
   "outputs": [
    {
     "data": {
      "text/plain": [
       "<div class=\"row___1xJWs close___30tSe\"><a class=\"link___2BznB item___ku9Fy\" href=\"/Rare-Earth-Oxides/201102250476\" style=\"flex:1;width:auto;padding-right:12px;justify-content:flex-start\" target=\"_blank\">Lanthanum Oxide (USD/mt)</a><div class=\"item___ku9Fy\" style=\"flex:;width:165px;padding-right:12px;justify-content:flex-end\">571.17-626.9</div><div class=\"item___ku9Fy\" style=\"flex:;width:106px;padding-right:12px;justify-content:flex-end\">599.04</div><div class=\"item___ku9Fy\" style=\"flex:;width:100px;padding-right:12px;justify-content:flex-end\">0</div><div class=\"item___ku9Fy\" style=\"flex:;width:130px;padding-right:24px;justify-content:flex-end\">Oct 27, 2023</div></div>"
      ]
     },
     "execution_count": 62,
     "metadata": {},
     "output_type": "execute_result"
    }
   ],
   "source": [
    "ugly_metal = soup.find_all(\"div\", {\"class\":\"row___1xJWs close___30tSe\"})\n",
    "ugly_metal[0]"
   ]
  },
  {
   "cell_type": "code",
   "execution_count": 52,
   "id": "533b812a",
   "metadata": {},
   "outputs": [
    {
     "data": {
      "text/plain": [
       "[<a class=\"link___2BznB item___ku9Fy\" href=\"/Rare-Earth-Oxides/201102250476\" style=\"flex:1;width:auto;padding-right:12px;justify-content:flex-start\" target=\"_blank\">Lanthanum Oxide (USD/mt)</a>,\n",
       " <a class=\"link___2BznB item___ku9Fy\" href=\"/Rare-Earth-Oxides/202304180002\" style=\"flex:1;width:auto;padding-right:12px;justify-content:flex-start\" target=\"_blank\">High Purity lanthanum Oxide (USD/mt)</a>,\n",
       " <a class=\"link___2BznB item___ku9Fy\" href=\"/Rare-Earth-Oxides/201102250142\" style=\"flex:1;width:auto;padding-right:12px;justify-content:flex-start\" target=\"_blank\">Cerium Oxide (USD/mt)</a>,\n",
       " <a class=\"link___2BznB item___ku9Fy\" href=\"/Rare-Earth-Oxides/202304180003\" style=\"flex:1;width:auto;padding-right:12px;justify-content:flex-start\" target=\"_blank\">High Purity Cerium Oxide (USD/mt)</a>,\n",
       " <a class=\"link___2BznB item___ku9Fy\" href=\"/Rare-Earth-Oxides/201102250139\" style=\"flex:1;width:auto;padding-right:12px;justify-content:flex-start\" target=\"_blank\">Praseodymium Oxide (USD/mt)</a>,\n",
       " <a class=\"link___2BznB item___ku9Fy\" href=\"/Rare-Earth-Oxides/201102250592\" style=\"flex:1;width:auto;padding-right:12px;justify-content:flex-start\" target=\"_blank\">Neodymium Oxide (USD/mt)</a>,\n",
       " <a class=\"link___2BznB item___ku9Fy\" href=\"/Rare-Earth-Oxides/201102250202\" style=\"flex:1;width:auto;padding-right:12px;justify-content:flex-start\" target=\"_blank\">Samarium Oxide (USD/mt)</a>,\n",
       " <a class=\"link___2BznB item___ku9Fy\" href=\"/Rare-Earth-Oxides/201102250506\" style=\"flex:1;width:auto;padding-right:12px;justify-content:flex-start\" target=\"_blank\">Europium Oxide (USD/kg)</a>,\n",
       " <a class=\"link___2BznB item___ku9Fy\" href=\"/Rare-Earth-Oxides/201112120001\" style=\"flex:1;width:auto;padding-right:12px;justify-content:flex-start\" target=\"_blank\">Gadolinium Oxide (USD/mt)</a>,\n",
       " <a class=\"link___2BznB item___ku9Fy\" href=\"/Rare-Earth-Oxides/202104090005\" style=\"flex:1;width:auto;padding-right:12px;justify-content:flex-start\" target=\"_blank\">High purity gadolinium oxide (USD/mt)</a>,\n",
       " <a class=\"link___2BznB item___ku9Fy\" href=\"/Rare-Earth-Oxides/201102250488\" style=\"flex:1;width:auto;padding-right:12px;justify-content:flex-start\" target=\"_blank\">Terbium Oxide (USD/kg)</a>,\n",
       " <a class=\"link___2BznB item___ku9Fy\" href=\"/Rare-Earth-Oxides/201102250247\" style=\"flex:1;width:auto;padding-right:12px;justify-content:flex-start\" target=\"_blank\">Dysprosium Oxide (USD/kg)</a>,\n",
       " <a class=\"link___2BznB item___ku9Fy\" href=\"/Rare-Earth-Oxides/201112120002\" style=\"flex:1;width:auto;padding-right:12px;justify-content:flex-start\" target=\"_blank\">Erbium Oxide (USD/mt)</a>,\n",
       " <a class=\"link___2BznB item___ku9Fy\" href=\"/Rare-Earth-Oxides/201102250030\" style=\"flex:1;width:auto;padding-right:12px;justify-content:flex-start\" target=\"_blank\">Yttrium Oxide (USD/mt)</a>,\n",
       " <a class=\"link___2BznB item___ku9Fy\" href=\"/Rare-Earth-Oxides/201102250162\" style=\"flex:1;width:auto;padding-right:12px;justify-content:flex-start\" target=\"_blank\">Praseodymium-neodymium oxide (USD/mt)</a>,\n",
       " <a class=\"link___2BznB item___ku9Fy\" href=\"/Rare-Earth-Oxides/201604250001\" style=\"flex:1;width:auto;padding-right:12px;justify-content:flex-start\" target=\"_blank\">Holmium Oxide (USD/mt)</a>,\n",
       " <a class=\"link___2BznB item___ku9Fy\" href=\"/Rare-Earth-Oxides/202104090001\" style=\"flex:1;width:auto;padding-right:12px;justify-content:flex-start\" target=\"_blank\">Ytterbium oxide (USD/mt)</a>,\n",
       " <a class=\"link___2BznB item___ku9Fy\" href=\"/Rare-Earth-Oxides/202104090002\" style=\"flex:1;width:auto;padding-right:12px;justify-content:flex-start\" target=\"_blank\">Lutetium oxide (USD/kg)</a>,\n",
       " <a class=\"link___2BznB item___ku9Fy\" href=\"/Rare-Earth-Oxides/202104090003\" style=\"flex:1;width:auto;padding-right:12px;justify-content:flex-start\" target=\"_blank\">Scandium oxide (USD/kg)</a>]"
      ]
     },
     "execution_count": 52,
     "metadata": {},
     "output_type": "execute_result"
    }
   ],
   "source": [
    "ugly_metal = soup.find_all(\"a\",{\"class\":\"link___2BznB item___ku9Fy\"})\n",
    "metal_name = ugly_metal[0].getText().replace(\" (USD/mt)\",\"\")"
   ]
  },
  {
   "cell_type": "code",
   "execution_count": 46,
   "id": "e1b21e05",
   "metadata": {},
   "outputs": [
    {
     "data": {
      "text/plain": [
       "'Lanthanum Oxide'"
      ]
     },
     "execution_count": 46,
     "metadata": {},
     "output_type": "execute_result"
    }
   ],
   "source": [
    "name= metal_name.split(\")\")[0].replace(\" (USD/mt\",\"\")\n",
    "name"
   ]
  },
  {
   "cell_type": "code",
   "execution_count": 47,
   "id": "b0d66627",
   "metadata": {},
   "outputs": [
    {
     "data": {
      "text/plain": [
       "['Lanthanum Oxide',\n",
       " 'High Purity lanthanum Oxide',\n",
       " 'Cerium Oxide',\n",
       " 'High Purity Cerium Oxide',\n",
       " 'Praseodymium Oxide',\n",
       " 'Neodymium Oxide',\n",
       " 'Samarium Oxide',\n",
       " 'Europium Oxide (USD/kg',\n",
       " 'Gadolinium Oxide',\n",
       " 'High purity gadolinium oxide',\n",
       " 'Terbium Oxide (USD/kg',\n",
       " 'Dysprosium Oxide (USD/kg',\n",
       " 'Erbium Oxide',\n",
       " 'Yttrium Oxide',\n",
       " 'Praseodymium-neodymium oxide',\n",
       " 'Holmium Oxide',\n",
       " 'Ytterbium oxide',\n",
       " 'Lutetium oxide (USD/kg',\n",
       " 'Scandium oxide (USD/kg']"
      ]
     },
     "execution_count": 47,
     "metadata": {},
     "output_type": "execute_result"
    }
   ],
   "source": [
    "names=[ugly_metal_name[i].getText().split(\")\")[0].replace(\" (USD/mt\",\"\") for i in range(len(ugly_metal_name))]\n",
    "names"
   ]
  },
  {
   "cell_type": "code",
   "execution_count": 55,
   "id": "64a23549",
   "metadata": {
    "scrolled": true
   },
   "outputs": [
    {
     "ename": "AttributeError",
     "evalue": "ResultSet object has no attribute 'find_all'. You're probably treating a list of elements like a single element. Did you call find_all() when you meant to call find()?",
     "output_type": "error",
     "traceback": [
      "\u001b[1;31m---------------------------------------------------------------------------\u001b[0m",
      "\u001b[1;31mAttributeError\u001b[0m                            Traceback (most recent call last)",
      "Cell \u001b[1;32mIn[55], line 2\u001b[0m\n\u001b[0;32m      1\u001b[0m ugly_prices \u001b[38;5;241m=\u001b[39mugly_metal_name\n\u001b[1;32m----> 2\u001b[0m todo \u001b[38;5;241m=\u001b[39m ugly_prices\u001b[38;5;241m.\u001b[39mfind_all(\u001b[38;5;124m\"\u001b[39m\u001b[38;5;124mdiv\u001b[39m\u001b[38;5;124m\"\u001b[39m, {\u001b[38;5;124m\"\u001b[39m\u001b[38;5;124mclass\u001b[39m\u001b[38;5;124m\"\u001b[39m:\u001b[38;5;124m\"\u001b[39m\u001b[38;5;124mitem___ku9Fy\u001b[39m\u001b[38;5;124m\"\u001b[39m})\n\u001b[0;32m      3\u001b[0m todo[\u001b[38;5;241m0\u001b[39m]\u001b[38;5;241m.\u001b[39mgetText()\n",
      "File \u001b[1;32m~\\miniconda3\\envs\\ironhack\\Lib\\site-packages\\bs4\\element.py:2428\u001b[0m, in \u001b[0;36mResultSet.__getattr__\u001b[1;34m(self, key)\u001b[0m\n\u001b[0;32m   2426\u001b[0m \u001b[38;5;28;01mdef\u001b[39;00m \u001b[38;5;21m__getattr__\u001b[39m(\u001b[38;5;28mself\u001b[39m, key):\n\u001b[0;32m   2427\u001b[0m \u001b[38;5;250m    \u001b[39m\u001b[38;5;124;03m\"\"\"Raise a helpful exception to explain a common code fix.\"\"\"\u001b[39;00m\n\u001b[1;32m-> 2428\u001b[0m     \u001b[38;5;28;01mraise\u001b[39;00m \u001b[38;5;167;01mAttributeError\u001b[39;00m(\n\u001b[0;32m   2429\u001b[0m         \u001b[38;5;124m\"\u001b[39m\u001b[38;5;124mResultSet object has no attribute \u001b[39m\u001b[38;5;124m'\u001b[39m\u001b[38;5;132;01m%s\u001b[39;00m\u001b[38;5;124m'\u001b[39m\u001b[38;5;124m. You\u001b[39m\u001b[38;5;124m'\u001b[39m\u001b[38;5;124mre probably treating a list of elements like a single element. Did you call find_all() when you meant to call find()?\u001b[39m\u001b[38;5;124m\"\u001b[39m \u001b[38;5;241m%\u001b[39m key\n\u001b[0;32m   2430\u001b[0m     )\n",
      "\u001b[1;31mAttributeError\u001b[0m: ResultSet object has no attribute 'find_all'. You're probably treating a list of elements like a single element. Did you call find_all() when you meant to call find()?"
     ]
    }
   ],
   "source": [
    "ugly_prices =ugly_metal_name\n",
    "todo = ugly_prices.find_all(\"div\", {\"class\":\"item___ku9Fy\"})\n",
    "todo[0].getText()\n"
   ]
  },
  {
   "cell_type": "code",
   "execution_count": 21,
   "id": "6a0b1ec8",
   "metadata": {},
   "outputs": [
    {
     "ename": "IndexError",
     "evalue": "list index out of range",
     "output_type": "error",
     "traceback": [
      "\u001b[1;31m---------------------------------------------------------------------------\u001b[0m",
      "\u001b[1;31mIndexError\u001b[0m                                Traceback (most recent call last)",
      "Cell \u001b[1;32mIn[21], line 1\u001b[0m\n\u001b[1;32m----> 1\u001b[0m todo[\u001b[38;5;241m1\u001b[39m]\u001b[38;5;241m.\u001b[39mgetText()\n",
      "\u001b[1;31mIndexError\u001b[0m: list index out of range"
     ]
    }
   ],
   "source": [
    "todo[1].getText()"
   ]
  },
  {
   "cell_type": "code",
   "execution_count": 19,
   "id": "4ccc1f96",
   "metadata": {},
   "outputs": [
    {
     "ename": "NameError",
     "evalue": "name 'ugly_metal_prices' is not defined",
     "output_type": "error",
     "traceback": [
      "\u001b[1;31m---------------------------------------------------------------------------\u001b[0m",
      "\u001b[1;31mNameError\u001b[0m                                 Traceback (most recent call last)",
      "Cell \u001b[1;32mIn[19], line 1\u001b[0m\n\u001b[1;32m----> 1\u001b[0m avg_price\u001b[38;5;241m=\u001b[39m[ugly_metal_prices[i]\u001b[38;5;241m.\u001b[39mfind_all(\u001b[38;5;124m\"\u001b[39m\u001b[38;5;124mdiv\u001b[39m\u001b[38;5;124m\"\u001b[39m, {\u001b[38;5;124m\"\u001b[39m\u001b[38;5;124mclass\u001b[39m\u001b[38;5;124m\"\u001b[39m:\u001b[38;5;124m\"\u001b[39m\u001b[38;5;124mitem___ku9Fy\u001b[39m\u001b[38;5;124m\"\u001b[39m})[\u001b[38;5;241m1\u001b[39m]\u001b[38;5;241m.\u001b[39mgetText() \u001b[38;5;28;01mfor\u001b[39;00m i \u001b[38;5;129;01min\u001b[39;00m \u001b[38;5;28mrange\u001b[39m(\u001b[38;5;28mlen\u001b[39m(ugly_metal_prices))]\n\u001b[0;32m      2\u001b[0m avg_price\n",
      "\u001b[1;31mNameError\u001b[0m: name 'ugly_metal_prices' is not defined"
     ]
    }
   ],
   "source": [
    "avg_price=[ugly_metal_prices[i].find_all(\"div\", {\"class\":\"item___ku9Fy\"})[1].getText() for i in range(len(ugly_metal_prices))]\n",
    "avg_price"
   ]
  },
  {
   "cell_type": "code",
   "execution_count": 20,
   "id": "c03e2fc4",
   "metadata": {},
   "outputs": [
    {
     "ename": "IndexError",
     "evalue": "list index out of range",
     "output_type": "error",
     "traceback": [
      "\u001b[1;31m---------------------------------------------------------------------------\u001b[0m",
      "\u001b[1;31mIndexError\u001b[0m                                Traceback (most recent call last)",
      "Cell \u001b[1;32mIn[20], line 1\u001b[0m\n\u001b[1;32m----> 1\u001b[0m todo[\u001b[38;5;241m3\u001b[39m]\u001b[38;5;241m.\u001b[39mgetText()\n",
      "\u001b[1;31mIndexError\u001b[0m: list index out of range"
     ]
    }
   ],
   "source": [
    "todo[3].getText()"
   ]
  },
  {
   "cell_type": "code",
   "execution_count": 22,
   "id": "61eeddfd",
   "metadata": {},
   "outputs": [
    {
     "ename": "NameError",
     "evalue": "name 'ugly_metal_prices' is not defined",
     "output_type": "error",
     "traceback": [
      "\u001b[1;31m---------------------------------------------------------------------------\u001b[0m",
      "\u001b[1;31mNameError\u001b[0m                                 Traceback (most recent call last)",
      "Cell \u001b[1;32mIn[22], line 1\u001b[0m\n\u001b[1;32m----> 1\u001b[0m date\u001b[38;5;241m=\u001b[39m [ugly_metal_prices[i]\u001b[38;5;241m.\u001b[39mfind_all(\u001b[38;5;124m\"\u001b[39m\u001b[38;5;124mdiv\u001b[39m\u001b[38;5;124m\"\u001b[39m, {\u001b[38;5;124m\"\u001b[39m\u001b[38;5;124mclass\u001b[39m\u001b[38;5;124m\"\u001b[39m:\u001b[38;5;124m\"\u001b[39m\u001b[38;5;124mitem___ku9Fy\u001b[39m\u001b[38;5;124m\"\u001b[39m})[\u001b[38;5;241m3\u001b[39m]\u001b[38;5;241m.\u001b[39mgetText() \u001b[38;5;28;01mfor\u001b[39;00m i \u001b[38;5;129;01min\u001b[39;00m \u001b[38;5;28mrange\u001b[39m(\u001b[38;5;28mlen\u001b[39m(ugly_metal_prices))]\n",
      "\u001b[1;31mNameError\u001b[0m: name 'ugly_metal_prices' is not defined"
     ]
    }
   ],
   "source": [
    "date= [ugly_metal_prices[i].find_all(\"div\", {\"class\":\"item___ku9Fy\"})[3].getText() for i in range(len(ugly_metal_prices))]"
   ]
  },
  {
   "cell_type": "code",
   "execution_count": null,
   "id": "f732dad9",
   "metadata": {},
   "outputs": [],
   "source": [
    "date"
   ]
  },
  {
   "cell_type": "code",
   "execution_count": null,
   "id": "05ab2aab",
   "metadata": {},
   "outputs": [],
   "source": [
    "range_prices= [ugly_metal_prices[i].find_all(\"div\", {\"class\":\"item___ku9Fy\"})[0].getText() for i in range(len(ugly_metal_prices))]"
   ]
  },
  {
   "cell_type": "code",
   "execution_count": null,
   "id": "610ffa6a",
   "metadata": {},
   "outputs": [],
   "source": [
    "range_prices"
   ]
  },
  {
   "cell_type": "code",
   "execution_count": null,
   "id": "ea05e396",
   "metadata": {},
   "outputs": [],
   "source": [
    "len(names)"
   ]
  },
  {
   "cell_type": "code",
   "execution_count": null,
   "id": "00f14c5d",
   "metadata": {},
   "outputs": [],
   "source": [
    "def updated_rare_earth_prices ():\n",
    "    "
   ]
  },
  {
   "cell_type": "code",
   "execution_count": null,
   "id": "e7f06141",
   "metadata": {},
   "outputs": [],
   "source": [
    "def big_big_function ():\n",
    "    \n",
    "    res = requests.get(\"https://www.murallasport.com/29-zapatillas-moda-mujer\")\n",
    "    soup = BeautifulSoup(res.content, \"html.parser\")\n",
    "    \n",
    "    names_processed  = get_names (soup)\n",
    "    brand_processed = get_brands(soup)\n",
    "    prices_processed = get_prices (soup)\n",
    "    all_links = get_links(soup)\n",
    "    \n",
    "    dict_with_lists = {\n",
    "    \"name\": names_processed,\n",
    "    \"brand\": brand_processed,\n",
    "    \"price\": prices_processed,\n",
    "    \"link\": all_links\n",
    "    }\n",
    "    \n",
    "    return pd.DataFrame(dict_with_lists)"
   ]
  },
  {
   "cell_type": "code",
   "execution_count": null,
   "id": "94eef26a",
   "metadata": {},
   "outputs": [],
   "source": []
  },
  {
   "cell_type": "code",
   "execution_count": null,
   "id": "38c1b71b",
   "metadata": {},
   "outputs": [],
   "source": []
  }
 ],
 "metadata": {
  "kernelspec": {
   "display_name": "ironhack",
   "language": "python",
   "name": "ironhack"
  },
  "language_info": {
   "codemirror_mode": {
    "name": "ipython",
    "version": 3
   },
   "file_extension": ".py",
   "mimetype": "text/x-python",
   "name": "python",
   "nbconvert_exporter": "python",
   "pygments_lexer": "ipython3",
   "version": "3.11.5"
  }
 },
 "nbformat": 4,
 "nbformat_minor": 5
}
