{
 "cells": [
  {
   "cell_type": "code",
   "execution_count": 1,
   "id": "c92a8d76",
   "metadata": {},
   "outputs": [],
   "source": [
    "import requests\n",
    "from bs4 import BeautifulSoup # pip install beautifulsoup4\n",
    "import pandas as pd\n",
    "import requests\n",
    "import re"
   ]
  },
  {
   "cell_type": "markdown",
   "id": "62c74a54",
   "metadata": {},
   "source": [
    "***Accessing the desired web page and scrapping***\n",
    "\n",
    "1- find the webpage where we can get the updated prices of the REE (Rare Earth Elements)\n",
    "\n",
    "2- scrapping and creating a data base with the desired info:\n",
    "\n",
    "    -REE name\n",
    "    -unit used \n",
    "    -price range\n",
    "    -average price\n",
    "    -date"
   ]
  },
  {
   "cell_type": "code",
   "execution_count": 2,
   "id": "1fac75b6",
   "metadata": {},
   "outputs": [],
   "source": [
    "url = \"https://www.metal.com/Rare-Earth-Oxides\""
   ]
  },
  {
   "cell_type": "code",
   "execution_count": 3,
   "id": "dd4e83d9",
   "metadata": {},
   "outputs": [],
   "source": [
    "res = requests.get(url)\n",
    "soup = BeautifulSoup(res.content, \"html.parser\") # we knoe we're getting html"
   ]
  },
  {
   "cell_type": "code",
   "execution_count": 4,
   "id": "46e09c81",
   "metadata": {},
   "outputs": [
    {
     "data": {
      "text/plain": [
       "<div class=\"row___1xJWs close___30tSe\"><a class=\"link___2BznB item___ku9Fy\" href=\"/Rare-Earth-Oxides/201102250476\" style=\"flex:1;width:auto;padding-right:12px;justify-content:flex-start\" target=\"_blank\">Lanthanum Oxide (USD/mt)</a><div class=\"item___ku9Fy\" style=\"flex:;width:165px;padding-right:12px;justify-content:flex-end\">571.17-626.9</div><div class=\"item___ku9Fy\" style=\"flex:;width:106px;padding-right:12px;justify-content:flex-end\">599.04</div><div class=\"item___ku9Fy\" style=\"flex:;width:100px;padding-right:12px;justify-content:flex-end\">0</div><div class=\"item___ku9Fy\" style=\"flex:;width:130px;padding-right:24px;justify-content:flex-end\">Oct 27, 2023</div></div>"
      ]
     },
     "execution_count": 4,
     "metadata": {},
     "output_type": "execute_result"
    }
   ],
   "source": [
    "ugly_metal = soup.find_all(\"div\", {\"class\":\"row___1xJWs close___30tSe\"})\n",
    "ugly_metal[0]"
   ]
  },
  {
   "cell_type": "code",
   "execution_count": 5,
   "id": "e1b21e05",
   "metadata": {},
   "outputs": [
    {
     "data": {
      "text/plain": [
       "'Lanthanum Oxide'"
      ]
     },
     "execution_count": 5,
     "metadata": {},
     "output_type": "execute_result"
    }
   ],
   "source": [
    "metal_name = ugly_metal[0].getText()\n",
    "name= metal_name.split(\")\")[0].replace(\" (USD/mt\",\"\")\n",
    "name"
   ]
  },
  {
   "cell_type": "code",
   "execution_count": 6,
   "id": "b0d66627",
   "metadata": {},
   "outputs": [],
   "source": [
    "names=[ugly_metal[i].getText().split(\")\")[0].replace(\" (USD/mt\",\"\").replace(\" (USD/kg\",\"\") for i in range(len(ugly_metal))]\n",
    "#names"
   ]
  },
  {
   "cell_type": "code",
   "execution_count": null,
   "id": "17073846",
   "metadata": {},
   "outputs": [],
   "source": []
  },
  {
   "cell_type": "code",
   "execution_count": 7,
   "id": "577b608a",
   "metadata": {},
   "outputs": [],
   "source": [
    "units=[ugly_metal[i].getText().split(\")\")[0].split(\"(\")[1] for i in range(len(ugly_metal))]\n",
    "#units"
   ]
  },
  {
   "cell_type": "code",
   "execution_count": 8,
   "id": "44474ee5",
   "metadata": {},
   "outputs": [
    {
     "data": {
      "text/plain": [
       "<div class=\"row___1xJWs close___30tSe\"><a class=\"link___2BznB item___ku9Fy\" href=\"/Rare-Earth-Oxides/201102250476\" style=\"flex:1;width:auto;padding-right:12px;justify-content:flex-start\" target=\"_blank\">Lanthanum Oxide (USD/mt)</a><div class=\"item___ku9Fy\" style=\"flex:;width:165px;padding-right:12px;justify-content:flex-end\">571.17-626.9</div><div class=\"item___ku9Fy\" style=\"flex:;width:106px;padding-right:12px;justify-content:flex-end\">599.04</div><div class=\"item___ku9Fy\" style=\"flex:;width:100px;padding-right:12px;justify-content:flex-end\">0</div><div class=\"item___ku9Fy\" style=\"flex:;width:130px;padding-right:24px;justify-content:flex-end\">Oct 27, 2023</div></div>"
      ]
     },
     "execution_count": 8,
     "metadata": {},
     "output_type": "execute_result"
    }
   ],
   "source": [
    "ugly_metal[0]"
   ]
  },
  {
   "cell_type": "code",
   "execution_count": 9,
   "id": "64a23549",
   "metadata": {
    "scrolled": true
   },
   "outputs": [
    {
     "data": {
      "text/plain": [
       "[<div class=\"item___ku9Fy\" style=\"flex:;width:165px;padding-right:12px;justify-content:flex-end\">571.17-626.9</div>,\n",
       " <div class=\"item___ku9Fy\" style=\"flex:;width:106px;padding-right:12px;justify-content:flex-end\">599.04</div>,\n",
       " <div class=\"item___ku9Fy\" style=\"flex:;width:100px;padding-right:12px;justify-content:flex-end\">0</div>,\n",
       " <div class=\"item___ku9Fy\" style=\"flex:;width:130px;padding-right:24px;justify-content:flex-end\">Oct 27, 2023</div>]"
      ]
     },
     "execution_count": 9,
     "metadata": {},
     "output_type": "execute_result"
    }
   ],
   "source": [
    "ugly_prices =ugly_metal[0].find_all(\"div\",{\"class\":\"item___ku9Fy\"})\n",
    "ugly_prices"
   ]
  },
  {
   "cell_type": "code",
   "execution_count": 10,
   "id": "6a0b1ec8",
   "metadata": {},
   "outputs": [
    {
     "data": {
      "text/plain": [
       "'599.04'"
      ]
     },
     "execution_count": 10,
     "metadata": {},
     "output_type": "execute_result"
    }
   ],
   "source": [
    "ugly_prices[1].getText()"
   ]
  },
  {
   "cell_type": "code",
   "execution_count": 11,
   "id": "4ccc1f96",
   "metadata": {},
   "outputs": [],
   "source": [
    "avg_price=[ugly_metal[i].find_all(\"div\", {\"class\":\"item___ku9Fy\"})[1].getText() for i in range(len(ugly_metal))]\n",
    "#avg_price"
   ]
  },
  {
   "cell_type": "code",
   "execution_count": 12,
   "id": "c03e2fc4",
   "metadata": {},
   "outputs": [
    {
     "data": {
      "text/plain": [
       "'Oct 27, 2023'"
      ]
     },
     "execution_count": 12,
     "metadata": {},
     "output_type": "execute_result"
    }
   ],
   "source": [
    "ugly_prices[3].getText()"
   ]
  },
  {
   "cell_type": "code",
   "execution_count": 13,
   "id": "61eeddfd",
   "metadata": {},
   "outputs": [],
   "source": [
    "date= [ugly_metal[i].find_all(\"div\", {\"class\":\"item___ku9Fy\"})[3].getText() for i in range(len(ugly_metal))]"
   ]
  },
  {
   "cell_type": "code",
   "execution_count": 14,
   "id": "f732dad9",
   "metadata": {},
   "outputs": [],
   "source": [
    "#date"
   ]
  },
  {
   "cell_type": "code",
   "execution_count": 15,
   "id": "05ab2aab",
   "metadata": {},
   "outputs": [],
   "source": [
    "range_prices= [ugly_metal[i].find_all(\"div\", {\"class\":\"item___ku9Fy\"})[0].getText() for i in range(len(ugly_metal))]"
   ]
  },
  {
   "cell_type": "code",
   "execution_count": 16,
   "id": "610ffa6a",
   "metadata": {},
   "outputs": [],
   "source": [
    "#range_prices"
   ]
  },
  {
   "cell_type": "code",
   "execution_count": 17,
   "id": "00f14c5d",
   "metadata": {},
   "outputs": [],
   "source": [
    "def updated_rare_earth_prices ():\n",
    "    res = requests.get(url)\n",
    "    soup = BeautifulSoup(res.content, \"html.parser\")\n",
    "    ugly_metal = soup.find_all(\"div\", {\"class\":\"row___1xJWs close___30tSe\"})\n",
    "    \n",
    "    names=[ugly_metal[i].getText().split(\")\")[0].replace(\" (USD/mt\",\"\").replace(\" (USD/kg\",\"\") for i in range(len(ugly_metal))]\n",
    "    units=[ugly_metal[i].getText().split(\")\")[0].split(\"(\")[1] for i in range(len(ugly_metal))]\n",
    "    avg_price=[ugly_metal[i].find_all(\"div\", {\"class\":\"item___ku9Fy\"})[1].getText() for i in range(len(ugly_metal))]\n",
    "    range_prices= [ugly_metal[i].find_all(\"div\", {\"class\":\"item___ku9Fy\"})[0].getText() for i in range(len(ugly_metal))]\n",
    "    date= [ugly_metal[i].find_all(\"div\", {\"class\":\"item___ku9Fy\"})[3].getText() for i in range(len(ugly_metal))]\n",
    "    \n",
    "    rare_earth_dic={\n",
    "    \"name\": names,\n",
    "    \"units\": units,\n",
    "    \"average_price\": avg_price,\n",
    "    \"prace_range\": range_prices,\n",
    "    \"date\":date       \n",
    "    }\n",
    "    return rare_earth_dic"
   ]
  },
  {
   "cell_type": "code",
   "execution_count": 18,
   "id": "e7f06141",
   "metadata": {},
   "outputs": [],
   "source": [
    "Rare_earth_df = pd.DataFrame(updated_rare_earth_prices())"
   ]
  },
  {
   "cell_type": "code",
   "execution_count": 19,
   "id": "94eef26a",
   "metadata": {},
   "outputs": [
    {
     "data": {
      "text/html": [
       "<div>\n",
       "<style scoped>\n",
       "    .dataframe tbody tr th:only-of-type {\n",
       "        vertical-align: middle;\n",
       "    }\n",
       "\n",
       "    .dataframe tbody tr th {\n",
       "        vertical-align: top;\n",
       "    }\n",
       "\n",
       "    .dataframe thead th {\n",
       "        text-align: right;\n",
       "    }\n",
       "</style>\n",
       "<table border=\"1\" class=\"dataframe\">\n",
       "  <thead>\n",
       "    <tr style=\"text-align: right;\">\n",
       "      <th></th>\n",
       "      <th>name</th>\n",
       "      <th>units</th>\n",
       "      <th>average_price</th>\n",
       "      <th>prace_range</th>\n",
       "      <th>date</th>\n",
       "    </tr>\n",
       "  </thead>\n",
       "  <tbody>\n",
       "    <tr>\n",
       "      <th>0</th>\n",
       "      <td>Lanthanum Oxide</td>\n",
       "      <td>USD/mt</td>\n",
       "      <td>599.04</td>\n",
       "      <td>571.17-626.9</td>\n",
       "      <td>Oct 27, 2023</td>\n",
       "    </tr>\n",
       "    <tr>\n",
       "      <th>1</th>\n",
       "      <td>High Purity lanthanum Oxide</td>\n",
       "      <td>USD/mt</td>\n",
       "      <td>2,646.9</td>\n",
       "      <td>2,507.59-2,786.21</td>\n",
       "      <td>Oct 27, 2023</td>\n",
       "    </tr>\n",
       "    <tr>\n",
       "      <th>2</th>\n",
       "      <td>Cerium Oxide</td>\n",
       "      <td>USD/mt</td>\n",
       "      <td>696.55</td>\n",
       "      <td>682.62-710.48</td>\n",
       "      <td>Oct 27, 2023</td>\n",
       "    </tr>\n",
       "    <tr>\n",
       "      <th>3</th>\n",
       "      <td>High Purity Cerium Oxide</td>\n",
       "      <td>USD/mt</td>\n",
       "      <td>2,925.52</td>\n",
       "      <td>2,786.21-3,064.84</td>\n",
       "      <td>Oct 27, 2023</td>\n",
       "    </tr>\n",
       "    <tr>\n",
       "      <th>4</th>\n",
       "      <td>Praseodymium Oxide</td>\n",
       "      <td>USD/mt</td>\n",
       "      <td>72,789.84</td>\n",
       "      <td>72,441.56-73,138.11</td>\n",
       "      <td>Oct 27, 2023</td>\n",
       "    </tr>\n",
       "    <tr>\n",
       "      <th>5</th>\n",
       "      <td>Neodymium Oxide</td>\n",
       "      <td>USD/mt</td>\n",
       "      <td>72,998.8</td>\n",
       "      <td>72,720.18-73,277.42</td>\n",
       "      <td>Oct 27, 2023</td>\n",
       "    </tr>\n",
       "    <tr>\n",
       "      <th>6</th>\n",
       "      <td>Samarium Oxide</td>\n",
       "      <td>USD/mt</td>\n",
       "      <td>2,089.66</td>\n",
       "      <td>1,950.35-2,228.97</td>\n",
       "      <td>Oct 27, 2023</td>\n",
       "    </tr>\n",
       "    <tr>\n",
       "      <th>7</th>\n",
       "      <td>Europium Oxide</td>\n",
       "      <td>USD/kg</td>\n",
       "      <td>27.17</td>\n",
       "      <td>26.47-27.86</td>\n",
       "      <td>Oct 27, 2023</td>\n",
       "    </tr>\n",
       "    <tr>\n",
       "      <th>8</th>\n",
       "      <td>Gadolinium Oxide</td>\n",
       "      <td>USD/mt</td>\n",
       "      <td>38,171.13</td>\n",
       "      <td>37,892.51-38,449.75</td>\n",
       "      <td>Oct 27, 2023</td>\n",
       "    </tr>\n",
       "    <tr>\n",
       "      <th>9</th>\n",
       "      <td>High purity gadolinium oxide</td>\n",
       "      <td>USD/mt</td>\n",
       "      <td>41,096.65</td>\n",
       "      <td>40,400.1-41,793.21</td>\n",
       "      <td>Oct 27, 2023</td>\n",
       "    </tr>\n",
       "    <tr>\n",
       "      <th>10</th>\n",
       "      <td>Terbium Oxide</td>\n",
       "      <td>USD/kg</td>\n",
       "      <td>1,135.38</td>\n",
       "      <td>1,131.2-1,139.56</td>\n",
       "      <td>Oct 27, 2023</td>\n",
       "    </tr>\n",
       "    <tr>\n",
       "      <th>11</th>\n",
       "      <td>Dysprosium Oxide</td>\n",
       "      <td>USD/kg</td>\n",
       "      <td>369.87</td>\n",
       "      <td>367.78-371.96</td>\n",
       "      <td>Oct 27, 2023</td>\n",
       "    </tr>\n",
       "    <tr>\n",
       "      <th>12</th>\n",
       "      <td>Erbium Oxide</td>\n",
       "      <td>USD/mt</td>\n",
       "      <td>40,051.82</td>\n",
       "      <td>39,703.55-40,400.1</td>\n",
       "      <td>Oct 27, 2023</td>\n",
       "    </tr>\n",
       "    <tr>\n",
       "      <th>13</th>\n",
       "      <td>Yttrium Oxide</td>\n",
       "      <td>USD/mt</td>\n",
       "      <td>6,268.98</td>\n",
       "      <td>6,129.67-6,408.29</td>\n",
       "      <td>Oct 27, 2023</td>\n",
       "    </tr>\n",
       "    <tr>\n",
       "      <th>14</th>\n",
       "      <td>Praseodymium-neodymium oxide</td>\n",
       "      <td>USD/mt</td>\n",
       "      <td>71,257.42</td>\n",
       "      <td>71,048.45-71,466.38</td>\n",
       "      <td>Oct 27, 2023</td>\n",
       "    </tr>\n",
       "    <tr>\n",
       "      <th>15</th>\n",
       "      <td>Holmium Oxide</td>\n",
       "      <td>USD/mt</td>\n",
       "      <td>81,496.75</td>\n",
       "      <td>80,800.2-82,193.31</td>\n",
       "      <td>Oct 27, 2023</td>\n",
       "    </tr>\n",
       "    <tr>\n",
       "      <th>16</th>\n",
       "      <td>Ytterbium oxide</td>\n",
       "      <td>USD/mt</td>\n",
       "      <td>13,931.07</td>\n",
       "      <td>13,234.52-14,627.62</td>\n",
       "      <td>Oct 27, 2023</td>\n",
       "    </tr>\n",
       "    <tr>\n",
       "      <th>17</th>\n",
       "      <td>Lutetium oxide</td>\n",
       "      <td>USD/kg</td>\n",
       "      <td>773.17</td>\n",
       "      <td>752.28-794.07</td>\n",
       "      <td>Oct 27, 2023</td>\n",
       "    </tr>\n",
       "    <tr>\n",
       "      <th>18</th>\n",
       "      <td>Scandium oxide</td>\n",
       "      <td>USD/kg</td>\n",
       "      <td>891.59</td>\n",
       "      <td>877.66-905.52</td>\n",
       "      <td>Oct 27, 2023</td>\n",
       "    </tr>\n",
       "  </tbody>\n",
       "</table>\n",
       "</div>"
      ],
      "text/plain": [
       "                            name   units average_price          prace_range  \\\n",
       "0                Lanthanum Oxide  USD/mt        599.04         571.17-626.9   \n",
       "1    High Purity lanthanum Oxide  USD/mt       2,646.9    2,507.59-2,786.21   \n",
       "2                   Cerium Oxide  USD/mt        696.55        682.62-710.48   \n",
       "3       High Purity Cerium Oxide  USD/mt      2,925.52    2,786.21-3,064.84   \n",
       "4             Praseodymium Oxide  USD/mt     72,789.84  72,441.56-73,138.11   \n",
       "5                Neodymium Oxide  USD/mt      72,998.8  72,720.18-73,277.42   \n",
       "6                 Samarium Oxide  USD/mt      2,089.66    1,950.35-2,228.97   \n",
       "7                 Europium Oxide  USD/kg         27.17          26.47-27.86   \n",
       "8               Gadolinium Oxide  USD/mt     38,171.13  37,892.51-38,449.75   \n",
       "9   High purity gadolinium oxide  USD/mt     41,096.65   40,400.1-41,793.21   \n",
       "10                 Terbium Oxide  USD/kg      1,135.38     1,131.2-1,139.56   \n",
       "11              Dysprosium Oxide  USD/kg        369.87        367.78-371.96   \n",
       "12                  Erbium Oxide  USD/mt     40,051.82   39,703.55-40,400.1   \n",
       "13                 Yttrium Oxide  USD/mt      6,268.98    6,129.67-6,408.29   \n",
       "14  Praseodymium-neodymium oxide  USD/mt     71,257.42  71,048.45-71,466.38   \n",
       "15                 Holmium Oxide  USD/mt     81,496.75   80,800.2-82,193.31   \n",
       "16               Ytterbium oxide  USD/mt     13,931.07  13,234.52-14,627.62   \n",
       "17                Lutetium oxide  USD/kg        773.17        752.28-794.07   \n",
       "18                Scandium oxide  USD/kg        891.59        877.66-905.52   \n",
       "\n",
       "            date  \n",
       "0   Oct 27, 2023  \n",
       "1   Oct 27, 2023  \n",
       "2   Oct 27, 2023  \n",
       "3   Oct 27, 2023  \n",
       "4   Oct 27, 2023  \n",
       "5   Oct 27, 2023  \n",
       "6   Oct 27, 2023  \n",
       "7   Oct 27, 2023  \n",
       "8   Oct 27, 2023  \n",
       "9   Oct 27, 2023  \n",
       "10  Oct 27, 2023  \n",
       "11  Oct 27, 2023  \n",
       "12  Oct 27, 2023  \n",
       "13  Oct 27, 2023  \n",
       "14  Oct 27, 2023  \n",
       "15  Oct 27, 2023  \n",
       "16  Oct 27, 2023  \n",
       "17  Oct 27, 2023  \n",
       "18  Oct 27, 2023  "
      ]
     },
     "execution_count": 19,
     "metadata": {},
     "output_type": "execute_result"
    }
   ],
   "source": [
    "Rare_earth_df"
   ]
  },
  {
   "cell_type": "markdown",
   "id": "e12007bf",
   "metadata": {},
   "source": [
    "***Exporting to the desired folder***"
   ]
  },
  {
   "cell_type": "code",
   "execution_count": 20,
   "id": "20adec1f",
   "metadata": {},
   "outputs": [],
   "source": [
    "Rare_earth_df.to_csv(\"C:/PATRICIA/Ironhack/Projects/PROJECT-2/PROJECT-II/Clean _databases/Rare_earth_df.csv\")"
   ]
  }
 ],
 "metadata": {
  "kernelspec": {
   "display_name": "ironhack",
   "language": "python",
   "name": "ironhack"
  },
  "language_info": {
   "codemirror_mode": {
    "name": "ipython",
    "version": 3
   },
   "file_extension": ".py",
   "mimetype": "text/x-python",
   "name": "python",
   "nbconvert_exporter": "python",
   "pygments_lexer": "ipython3",
   "version": "3.11.5"
  }
 },
 "nbformat": 4,
 "nbformat_minor": 5
}
